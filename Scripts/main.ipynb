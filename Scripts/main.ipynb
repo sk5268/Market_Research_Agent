{
 "cells": [
  {
   "cell_type": "code",
   "execution_count": null,
   "metadata": {},
   "outputs": [],
   "source": [
    "\"\"\"\n",
    "This module initializes and runs the main process for the AI project,\n",
    "utilizing various agents and tasks to achieve the project's goals.\n",
    "\"\"\""
   ]
  },
  {
   "cell_type": "code",
   "execution_count": null,
   "metadata": {},
   "outputs": [],
   "source": [
    "from dotenv import load_dotenv\n",
    "load_dotenv()\n",
    "\n",
    "from crewai import Crew, Process\n",
    "\n",
    "from agents import (\n",
    "    industry_research_agent,\n",
    "    market_standards_agent,\n",
    "    resource_collection_agent,\n",
    "    final_proposal_agent,\n",
    "    link_collector_agent,\n",
    "    table_maker_agent,\n",
    "    annual_report_collector_agent\n",
    ")\n",
    "\n",
    "from tasks import (\n",
    "    industry_research_task,\n",
    "    market_standards_task,\n",
    "    resource_collection_task,\n",
    "    final_proposal_task,\n",
    "    collect_links_task,\n",
    "    format_table_task,\n",
    "    annual_report_collection_task\n",
    ")"
   ]
  },
  {
   "cell_type": "code",
   "execution_count": null,
   "metadata": {},
   "outputs": [],
   "source": [
    "company = \"Tata Steel\""
   ]
  },
  {
   "cell_type": "code",
   "execution_count": null,
   "metadata": {},
   "outputs": [],
   "source": [
    "# Initializes a Crew instance with specified agents and tasks.\n",
    "   \n",
    "crew = Crew(\n",
    "    agents=[\n",
    "        industry_research_agent,\n",
    "        market_standards_agent,\n",
    "        resource_collection_agent,\n",
    "        final_proposal_agent,\n",
    "        link_collector_agent,\n",
    "        table_maker_agent,\n",
    "        annual_report_collector_agent\n",
    "    ],\n",
    "    tasks=[\n",
    "        industry_research_task,\n",
    "        annual_report_collection_task,\n",
    "        market_standards_task,\n",
    "        resource_collection_task,\n",
    "        final_proposal_task,\n",
    "        collect_links_task,\n",
    "        format_table_task\n",
    "    ],\n",
    "    process=Process.sequential,\n",
    "    verbose=True\n",
    ")"
   ]
  },
  {
   "cell_type": "code",
   "execution_count": null,
   "metadata": {},
   "outputs": [],
   "source": [
    "result = crew.kickoff(inputs={\"company\": company})"
   ]
  },
  {
   "cell_type": "code",
   "execution_count": null,
   "metadata": {},
   "outputs": [],
   "source": [
    "lst = [\n",
    "        annual_report_collection_task,\n",
    "        resource_collection_task,\n",
    "        collect_links_task,\n",
    "    ]\n",
    "\n",
    "names = [\"Competitor's Annual Report\", \"Report\", \"Research References\"]"
   ]
  },
  {
   "cell_type": "code",
   "execution_count": null,
   "metadata": {},
   "outputs": [],
   "source": [
    "for tmp in range(3):\n",
    "    with open(f\"{names[tmp]}.md\", 'w') as f:\n",
    "        f.write(str(lst[tmp].output))"
   ]
  }
 ],
 "metadata": {
  "kernelspec": {
   "display_name": "Python 3",
   "language": "python",
   "name": "python3"
  },
  "language_info": {
   "codemirror_mode": {
    "name": "ipython",
    "version": 3
   },
   "file_extension": ".py",
   "mimetype": "text/x-python",
   "name": "python",
   "nbconvert_exporter": "python",
   "pygments_lexer": "ipython3",
   "version": "3.12.8"
  }
 },
 "nbformat": 4,
 "nbformat_minor": 2
}
